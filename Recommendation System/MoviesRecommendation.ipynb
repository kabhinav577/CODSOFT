{
 "cells": [
  {
   "cell_type": "code",
   "execution_count": 4,
   "id": "11262859-ed86-40ba-8f9e-7b02031eb56e",
   "metadata": {},
   "outputs": [],
   "source": [
    "import pandas as pd\n",
    "from sklearn.feature_extraction.text import TfidfVectorizer\n",
    "from sklearn.metrics.pairwise import cosine_similarity"
   ]
  },
  {
   "cell_type": "markdown",
   "id": "531787d0-a6d6-4f4c-b32d-b62b5d9ba5cb",
   "metadata": {},
   "source": [
    "### # Step 1: Load the movies dataset"
   ]
  },
  {
   "cell_type": "code",
   "execution_count": 5,
   "id": "fba8d64e-2c65-49ce-a3a4-67993eb3fa9e",
   "metadata": {},
   "outputs": [],
   "source": [
    "movies = pd.read_csv(\"movies.csv\")"
   ]
  },
  {
   "cell_type": "markdown",
   "id": "75d3d114-50e4-444a-a151-32cc06dc5d42",
   "metadata": {},
   "source": [
    "### # Step 2: Fill any missing genres with empty string"
   ]
  },
  {
   "cell_type": "code",
   "execution_count": 6,
   "id": "d70b94af-c509-4986-b4b9-9c6be3d0f525",
   "metadata": {},
   "outputs": [],
   "source": [
    "movies['genres'] = movies['genres'].fillna('')"
   ]
  },
  {
   "cell_type": "markdown",
   "id": "fb3c1e21-80bb-4254-8fce-cb891456c969",
   "metadata": {},
   "source": [
    "### # Step 3: Convert genres into lowercase and format text"
   ]
  },
  {
   "cell_type": "code",
   "execution_count": 7,
   "id": "23ffac13-01ac-43c3-9562-306f5a2df223",
   "metadata": {},
   "outputs": [],
   "source": [
    "movies['genres'] = movies['genres'].str.replace('|', ' ').str.lower()"
   ]
  },
  {
   "cell_type": "markdown",
   "id": "0fe0039a-6620-47bb-97a1-2a0472bc9ba8",
   "metadata": {},
   "source": [
    "### # Step 4: Initialize TF-IDF Vectorizer to convert genre text to numerical vectors"
   ]
  },
  {
   "cell_type": "code",
   "execution_count": 8,
   "id": "cf265cd8-72f1-49ab-ad20-ab2580b5a0a7",
   "metadata": {},
   "outputs": [],
   "source": [
    "tfidf = TfidfVectorizer(stop_words='english')  # remove common words like 'the', 'and'\n",
    "tfidf_matrix = tfidf.fit_transform(movies['genres']) "
   ]
  },
  {
   "cell_type": "markdown",
   "id": "3b2cebf4-0f9a-404b-9f78-b3af4b630371",
   "metadata": {},
   "source": [
    "### # Step 5: Compute cosine similarity between all movies based on genre vectors"
   ]
  },
  {
   "cell_type": "code",
   "execution_count": 9,
   "id": "56bc4623-fcce-4b8f-8051-339aee429855",
   "metadata": {},
   "outputs": [],
   "source": [
    "cosine_sim = cosine_similarity(tfidf_matrix, tfidf_matrix)"
   ]
  },
  {
   "cell_type": "markdown",
   "id": "7540a22c-2dd8-4b29-acbe-10c63ef13deb",
   "metadata": {},
   "source": [
    "### # Step 6: Create a mapping from movie titles to their DataFrame index"
   ]
  },
  {
   "cell_type": "code",
   "execution_count": 10,
   "id": "33038fbc-55e3-4c35-86ed-57336db1d15c",
   "metadata": {},
   "outputs": [],
   "source": [
    "indices = pd.Series(movies.index, index=movies['title'].str.lower())"
   ]
  },
  {
   "cell_type": "markdown",
   "id": "bf1cdb0d-6466-49a3-88da-319f691284ba",
   "metadata": {},
   "source": [
    "### # Step 7: Function to recommend similar movies"
   ]
  },
  {
   "cell_type": "code",
   "execution_count": 11,
   "id": "6e62bb2c-12ac-4f06-9367-430cc99614c7",
   "metadata": {},
   "outputs": [],
   "source": [
    "def recommend_movies(title, num_recommendations=5):\n",
    "    title = title.lower().strip()\n",
    "\n",
    "    # Try exact match first\n",
    "    if title in indices:\n",
    "        idx = indices[title]\n",
    "    else:\n",
    "        # Try to find a partial match\n",
    "        matches = movies[movies['title'].str.lower().str.contains(title, na=False)]\n",
    "        if matches.empty:\n",
    "            return f\"No movies found matching '{title}'.\"\n",
    "        \n",
    "        # Pick the best match (first one) and get its index\n",
    "        idx = matches.index[0]\n",
    "        print(f\"No exact match found. Using closest match: '{movies.loc[idx, 'title']}'\")\n",
    "\n",
    "    # Get similarity scores for this movie with all others\n",
    "    sim_scores = list(enumerate(cosine_sim[idx]))\n",
    "\n",
    "    # Sort movies by similarity score in descending order\n",
    "    sim_scores = sorted(sim_scores, key=lambda x: x[1], reverse=True)\n",
    "\n",
    "    # Skip the first one (it’s the same movie)\n",
    "    sim_scores = sim_scores[1:num_recommendations+1]\n",
    "\n",
    "    # Get indices of recommended movies\n",
    "    movie_indices = [i[0] for i in sim_scores]\n",
    "\n",
    "    return movies['title'].iloc[movie_indices]\n"
   ]
  },
  {
   "cell_type": "markdown",
   "id": "b1be30c1-336c-4e2e-b169-7ca06ab808da",
   "metadata": {},
   "source": [
    "### # Step 8: Test the recommender"
   ]
  },
  {
   "cell_type": "code",
   "execution_count": 13,
   "id": "e924396d-5c3f-4811-a037-7f85962b4e7a",
   "metadata": {},
   "outputs": [
    {
     "name": "stdout",
     "output_type": "stream",
     "text": [
      "Recommendations for 'Titanic':\n",
      "No exact match found. Using closest match: 'Titanic (1997)'\n",
      "24                Leaving Las Vegas (1995)\n",
      "27                       Persuasion (1995)\n",
      "42    How to Make an American Quilt (1995)\n",
      "45            When Night Is Falling (1995)\n",
      "66                     Bed of Roses (1996)\n",
      "Name: title, dtype: object\n"
     ]
    }
   ],
   "source": [
    "print(\"Recommendations for 'Titanic':\")\n",
    "print(recommend_movies(\"Titanic\"))"
   ]
  },
  {
   "cell_type": "code",
   "execution_count": null,
   "id": "af8a031f-eb8f-4060-9d60-504158175ed2",
   "metadata": {},
   "outputs": [],
   "source": []
  }
 ],
 "metadata": {
  "kernelspec": {
   "display_name": "Python 3 (ipykernel)",
   "language": "python",
   "name": "python3"
  },
  "language_info": {
   "codemirror_mode": {
    "name": "ipython",
    "version": 3
   },
   "file_extension": ".py",
   "mimetype": "text/x-python",
   "name": "python",
   "nbconvert_exporter": "python",
   "pygments_lexer": "ipython3",
   "version": "3.12.7"
  }
 },
 "nbformat": 4,
 "nbformat_minor": 5
}
